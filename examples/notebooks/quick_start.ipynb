{
 "cells": [
  {
   "cell_type": "markdown",
   "id": "083b166e-c910-4d63-b5b5-eb37dd4f0ac6",
   "metadata": {},
   "source": [
    "# Quick Start\n",
    "\n",
    "This guide explains how to get up and running with NautilusTrader backtesting with some\n",
    "FX data. The Nautilus maintainers have pre-loaded some test data using the standard Nautilus persistence \n",
    "format (Parquet) for this guide.\n",
    "\n",
    "For more details on how to load data into Nautilus, see [Backtest Example](https://docs.nautilustrader.io/guides/backtest_example.html) and [Loading External Data](https://docs.nautilustrader.io/guides/loading_external_data.html)."
   ]
  },
  {
   "cell_type": "markdown",
   "id": "b01cba3c-1aa1-47d6-b126-65d4f8a725bf",
   "metadata": {},
   "source": [
    "## Connecting to the ParquetDataCatalog\n",
    "\n",
    "You should be able to see a single EUR/USD instrument in the catalog:"
   ]
  },
  {
   "cell_type": "code",
   "execution_count": 1,
   "id": "2d8c93b8-932c-494a-a204-0de29315268d",
   "metadata": {},
   "outputs": [
    {
     "data": {
      "text/html": [
       "<div>\n",
       "<style scoped>\n",
       "    .dataframe tbody tr th:only-of-type {\n",
       "        vertical-align: middle;\n",
       "    }\n",
       "\n",
       "    .dataframe tbody tr th {\n",
       "        vertical-align: top;\n",
       "    }\n",
       "\n",
       "    .dataframe thead th {\n",
       "        text-align: right;\n",
       "    }\n",
       "</style>\n",
       "<table border=\"1\" class=\"dataframe\">\n",
       "  <thead>\n",
       "    <tr style=\"text-align: right;\">\n",
       "      <th></th>\n",
       "      <th>id</th>\n",
       "      <th>native_symbol</th>\n",
       "      <th>base_currency</th>\n",
       "      <th>quote_currency</th>\n",
       "      <th>price_precision</th>\n",
       "      <th>size_precision</th>\n",
       "      <th>price_increment</th>\n",
       "      <th>size_increment</th>\n",
       "      <th>lot_size</th>\n",
       "      <th>max_quantity</th>\n",
       "      <th>...</th>\n",
       "      <th>min_notional</th>\n",
       "      <th>max_price</th>\n",
       "      <th>min_price</th>\n",
       "      <th>margin_init</th>\n",
       "      <th>margin_maint</th>\n",
       "      <th>maker_fee</th>\n",
       "      <th>taker_fee</th>\n",
       "      <th>info</th>\n",
       "      <th>ts_event</th>\n",
       "      <th>ts_init</th>\n",
       "    </tr>\n",
       "  </thead>\n",
       "  <tbody>\n",
       "    <tr>\n",
       "      <th>0</th>\n",
       "      <td>EUR/USD.SIM</td>\n",
       "      <td>EUR/USD</td>\n",
       "      <td>EUR</td>\n",
       "      <td>USD</td>\n",
       "      <td>5</td>\n",
       "      <td>0</td>\n",
       "      <td>0.00001</td>\n",
       "      <td>1</td>\n",
       "      <td>1000</td>\n",
       "      <td>10000000</td>\n",
       "      <td>...</td>\n",
       "      <td>1_000.00 USD</td>\n",
       "      <td>NaN</td>\n",
       "      <td>NaN</td>\n",
       "      <td>0.03</td>\n",
       "      <td>0.03</td>\n",
       "      <td>0.00002</td>\n",
       "      <td>0.00002</td>\n",
       "      <td>None</td>\n",
       "      <td>0</td>\n",
       "      <td>0</td>\n",
       "    </tr>\n",
       "  </tbody>\n",
       "</table>\n",
       "<p>1 rows × 22 columns</p>\n",
       "</div>"
      ],
      "text/plain": [
       "            id native_symbol base_currency quote_currency  price_precision  \\\n",
       "0  EUR/USD.SIM       EUR/USD           EUR            USD                5   \n",
       "\n",
       "   size_precision price_increment size_increment lot_size max_quantity  ...  \\\n",
       "0               0         0.00001              1     1000     10000000  ...   \n",
       "\n",
       "   min_notional max_price min_price margin_init margin_maint maker_fee  \\\n",
       "0  1_000.00 USD       NaN       NaN        0.03         0.03   0.00002   \n",
       "\n",
       "  taker_fee  info ts_event ts_init  \n",
       "0   0.00002  None        0       0  \n",
       "\n",
       "[1 rows x 22 columns]"
      ]
     },
     "execution_count": 1,
     "metadata": {},
     "output_type": "execute_result"
    }
   ],
   "source": [
    "from nautilus_trader.persistence.catalog import ParquetDataCatalog\n",
    "\n",
    "# You can also use a relative path such as `ParquetDataCatalog(\"./catalog\")`,\n",
    "#  for example if you're running this notebook after the data setup from the docs\n",
    "#  or when developing\n",
    "catalog = ParquetDataCatalog(\"./catalog\")\n",
    "# catalog = ParquetDataCatalog.from_env()\n",
    "catalog.instruments()"
   ]
  },
  {
   "cell_type": "markdown",
   "id": "6dad8910-8554-4d7a-8d18-735195a9b28b",
   "metadata": {},
   "source": [
    "## Writing a trading strategy\n",
    "\n",
    "NautilusTrader includes a handful of indicators built-in, in this example we will use a MACD indicator to \n",
    "build a simple trading strategy. \n",
    "\n",
    "You can read more about [MACD here](https://www.investopedia.com/terms/m/macd.asp), so this \n",
    "indicator merely serves as an example without any expected alpha. There is also a way of\n",
    "registering indicators to receive certain data types, however in this example we manually pass the received\n",
    "`QuoteTick` to the indicator in the `on_quote_tick` method."
   ]
  },
  {
   "cell_type": "code",
   "execution_count": 2,
   "id": "177077c0-f4b6-4bc0-8dfd-e24b424b9bc1",
   "metadata": {},
   "outputs": [],
   "source": [
    "from typing import Optional\n",
    "from nautilus_trader.core.message import Event\n",
    "from nautilus_trader.indicators.macd import MovingAverageConvergenceDivergence\n",
    "from nautilus_trader.model.data import QuoteTick\n",
    "from nautilus_trader.model.enums import PriceType, PositionSide, OrderSide\n",
    "from nautilus_trader.model.events import PositionOpened\n",
    "from nautilus_trader.model.identifiers import InstrumentId\n",
    "from nautilus_trader.model.objects import Quantity\n",
    "from nautilus_trader.model.position import Position\n",
    "from nautilus_trader.trading.strategy import Strategy, StrategyConfig\n",
    "\n",
    "\n",
    "class MACDConfig(StrategyConfig):\n",
    "    instrument_id: str\n",
    "    fast_period: int = 12\n",
    "    slow_period: int = 26\n",
    "    trade_size: int = 1_000_000\n",
    "    entry_threshold: float = 0.00010\n",
    "\n",
    "    \n",
    "class MACDStrategy(Strategy):\n",
    "    def __init__(self, config: MACDConfig):\n",
    "        super().__init__(config=config)\n",
    "        # Our \"trading signal\"\n",
    "        self.macd = MovingAverageConvergenceDivergence(\n",
    "            fast_period=config.fast_period, slow_period=config.slow_period, price_type=PriceType.MID\n",
    "        )\n",
    "        # We copy some config values onto the class to make them easier to reference later on\n",
    "        self.entry_threshold = config.entry_threshold\n",
    "        self.instrument_id = InstrumentId.from_str(config.instrument_id)\n",
    "        self.trade_size = Quantity.from_int(config.trade_size)\n",
    "        self.entry_threshold = config.entry_threshold\n",
    "\n",
    "        # Convenience\n",
    "        self.position: Optional[Position] = None\n",
    "\n",
    "    def on_start(self):\n",
    "        self.subscribe_quote_ticks(instrument_id=self.instrument_id)\n",
    "\n",
    "    def on_stop(self):\n",
    "        self.close_all_positions(self.instrument_id)\n",
    "        self.unsubscribe_quote_ticks(instrument_id=self.instrument_id)\n",
    "\n",
    "    def on_quote_tick(self, tick: QuoteTick):\n",
    "        # You can register indicators to receive quote tick updates automatically,\n",
    "        # here we manually update the indicator to demonstrate the flexibility available.\n",
    "        self.macd.handle_quote_tick(tick)\n",
    "\n",
    "        if not self.macd.initialized:\n",
    "            return  # Wait for indicator to warm up\n",
    "        \n",
    "        # self._log.info(f\"{self.macd.value=}:%5d\")\n",
    "        self.check_for_entry()\n",
    "        self.check_for_exit()\n",
    "\n",
    "    def on_event(self, event: Event):\n",
    "        if isinstance(event, PositionOpened):\n",
    "            self.position = self.cache.position(event.position_id)\n",
    "\n",
    "    def check_for_entry(self):\n",
    "        # If MACD line is above our entry threshold, we should be LONG\n",
    "        if self.macd.value > self.entry_threshold:\n",
    "            if self.position and self.position.side == PositionSide.LONG:\n",
    "                return  # Already LONG\n",
    "\n",
    "            order = self.order_factory.market(\n",
    "                instrument_id=self.instrument_id,\n",
    "                order_side=OrderSide.BUY,\n",
    "                quantity=self.trade_size,\n",
    "            )\n",
    "            self.submit_order(order)\n",
    "        \n",
    "        # If MACD line is below our entry threshold, we should be SHORT\n",
    "        elif self.macd.value < -self.entry_threshold:\n",
    "            if self.position and self.position.side == PositionSide.SHORT:\n",
    "                return  # Already SHORT\n",
    "\n",
    "            order = self.order_factory.market(\n",
    "                instrument_id=self.instrument_id,\n",
    "                order_side=OrderSide.SELL,\n",
    "                quantity=self.trade_size,\n",
    "            )\n",
    "            self.submit_order(order)\n",
    "\n",
    "    def check_for_exit(self):\n",
    "        # If MACD line is above zero then exit if we are SHORT\n",
    "        if self.macd.value >= 0.0:\n",
    "            if self.position and self.position.side == PositionSide.SHORT:\n",
    "                self.close_position(self.position)\n",
    "        \n",
    "        # If MACD line is below zero then exit if we are LONG\n",
    "        else:\n",
    "            if self.position and self.position.side == PositionSide.LONG:\n",
    "                self.close_position(self.position)\n",
    "\n",
    "    def on_dispose(self):\n",
    "        pass  # Do nothing else"
   ]
  },
  {
   "cell_type": "markdown",
   "id": "a22fc47d-e701-4213-9afa-5a648062471e",
   "metadata": {},
   "source": [
    "## Configuring Backtests\n",
    "\n",
    "Now that we have a trading strategy and data, we can begin to configure a backtest run! Nautilus uses a `BacktestNode` \n",
    "to orchestrate backtest runs, which requires some setup. This may seem a little complex at first, \n",
    "however this is necessary for the capabilities that Nautilus strives for.\n",
    "\n",
    "To configure a `BacktestNode`, we first need to create an instance of a `BacktestRunConfig`, configuring the \n",
    "following (minimal) aspects of the backtest:\n",
    "\n",
    "- `engine` - The engine for the backtest representing our core system, which will also contain our strategies\n",
    "- `venues` - The simulated venues (exchanges or brokers) available in the backtest\n",
    "- `data` - The input data we would like to perform the backtest on\n",
    "\n",
    "There are many more configurable features which will be described later in the docs, for now this will get us up and running.\n",
    "\n",
    "## Venue\n",
    "\n",
    "First, we create a venue configuration. For this example we will create a simulated FX ECN. \n",
    "A venue needs a name which acts as an ID (in this case `SIM`), as well as some basic configuration, e.g. \n",
    "the account type (`CASH` vs `MARGIN`), an optional base currency, and starting balance(s)."
   ]
  },
  {
   "cell_type": "code",
   "execution_count": 3,
   "id": "5a098369-08e4-4063-a7ec-5f1a88214731",
   "metadata": {},
   "outputs": [],
   "source": [
    "from nautilus_trader.config import BacktestVenueConfig\n",
    "\n",
    "venue = BacktestVenueConfig(\n",
    "    name=\"SIM\",\n",
    "    oms_type=\"NETTING\",\n",
    "    account_type=\"MARGIN\",\n",
    "    base_currency=\"USD\",\n",
    "    starting_balances=[\"1_000_000 USD\"]\n",
    ")"
   ]
  },
  {
   "cell_type": "markdown",
   "id": "5e17aed4-bcb6-4b51-b16c-55c1013f356a",
   "metadata": {},
   "source": [
    "## Instruments\n",
    "\n",
    "Second, we need to know about the instruments that we would like to load data for, we can use the `ParquetDataCatalog` for this:"
   ]
  },
  {
   "cell_type": "code",
   "execution_count": 4,
   "id": "5bfba48f-9406-4a43-91d7-9c2475ee8762",
   "metadata": {},
   "outputs": [
    {
     "data": {
      "text/plain": [
       "[CurrencyPair(id=EUR/USD.SIM, native_symbol=EUR/USD, asset_class=FX, asset_type=SPOT, quote_currency=USD, is_inverse=False, price_precision=5, price_increment=0.00001, size_precision=0, size_increment=1, multiplier=1, lot_size=1000, margin_init=0.03, margin_maint=0.03, maker_fee=0.00002, taker_fee=0.00002, info=None)]"
      ]
     },
     "execution_count": 4,
     "metadata": {},
     "output_type": "execute_result"
    }
   ],
   "source": [
    "instruments = catalog.instruments(as_nautilus=True)\n",
    "instruments"
   ]
  },
  {
   "cell_type": "markdown",
   "id": "2eb481d7-c445-41f6-94e9-7cd2371b9faf",
   "metadata": {},
   "source": [
    "## Data\n",
    "\n",
    "Next, we need to configure the data for the backtest. Nautilus is built to be very flexible when it \n",
    "comes to loading data for backtests, however this also means some configuration is required.\n",
    "\n",
    "For each tick type (and instrument), we add a `BacktestDataConfig`. In this instance we are simply \n",
    "adding the `QuoteTick`(s) for our EUR/USD instrument:"
   ]
  },
  {
   "cell_type": "code",
   "execution_count": 5,
   "id": "551d967f-40b9-4e31-8268-739ddc2929ef",
   "metadata": {},
   "outputs": [],
   "source": [
    "from nautilus_trader.config import BacktestDataConfig\n",
    "from nautilus_trader.model.data import QuoteTick\n",
    "\n",
    "data = BacktestDataConfig(\n",
    "    catalog_path=str(catalog.path),\n",
    "    data_cls=QuoteTick,\n",
    "    instrument_id=str(instruments[0].id),\n",
    "    end_time=\"2020-01-10\",\n",
    ")"
   ]
  },
  {
   "cell_type": "markdown",
   "id": "57365e02-96ab-44d1-bc39-2b4c53b7065e",
   "metadata": {},
   "source": [
    "## Engine\n",
    "\n",
    "Then, we need a `BacktestEngineConfig` which represents the configuration of our core trading system.\n",
    "Here we need to pass our trading strategies, we can also adjust the log level \n",
    "and configure many other components (however, it's also fine to use the defaults):\n",
    "\n",
    "Strategies are added via the `ImportableStrategyConfig`, which allows importing strategies from arbitrary files or \n",
    "user packages. In this instance, our `MACDStrategy` is defined in the current module, which python refers to as `__main__`."
   ]
  },
  {
   "cell_type": "code",
   "execution_count": 6,
   "id": "d6ecd1e6-a603-4b1d-9e8b-69d7722dc9c6",
   "metadata": {},
   "outputs": [],
   "source": [
    "from nautilus_trader.config import BacktestEngineConfig, ImportableStrategyConfig, LoggingConfig\n",
    "\n",
    "# NautilusTrader currently exceeds the rate limit for Jupyter notebook logging (stdout output),\n",
    "# this is why the `log_level` is set to \"ERROR\". If you lower this level to see\n",
    "# more logging then the notebook will hang during cell execution. A fix is currently\n",
    "# being investigated which involves either raising the configured rate limits for\n",
    "# Jupyter, or throttling the log flushing from Nautilus.\n",
    "# https://github.com/jupyterlab/jupyterlab/issues/12845\n",
    "# https://github.com/deshaw/jupyterlab-limit-output\n",
    "engine = BacktestEngineConfig(\n",
    "    strategies=[\n",
    "        ImportableStrategyConfig(\n",
    "            strategy_path=\"__main__:MACDStrategy\",\n",
    "            config_path=\"__main__:MACDConfig\",\n",
    "            config=dict(\n",
    "              instrument_id=instruments[0].id.value,\n",
    "              fast_period=12,\n",
    "              slow_period=26,\n",
    "            ),\n",
    "        )\n",
    "    ],\n",
    "    logging=LoggingConfig(log_level=\"ERROR\"),\n",
    ")"
   ]
  },
  {
   "cell_type": "markdown",
   "id": "c0768dec-cfc0-4ca1-abe7-c5105f244d85",
   "metadata": {},
   "source": [
    "## Running a backtest\n",
    "\n",
    "We can now pass our various config pieces to the `BacktestRunConfig`. This object now contains the \n",
    "full configuration for our backtest."
   ]
  },
  {
   "cell_type": "code",
   "execution_count": 7,
   "id": "eab6d9f6-832f-4a90-a58d-58d9721e0c40",
   "metadata": {},
   "outputs": [],
   "source": [
    "from nautilus_trader.config import BacktestRunConfig\n",
    "\n",
    "config = BacktestRunConfig(\n",
    "    engine=engine,\n",
    "    venues=[venue],\n",
    "    data=[data],\n",
    ")"
   ]
  },
  {
   "cell_type": "markdown",
   "id": "d3bdd374-56b4-4bd0-8eb2-6eb7acbc2f9b",
   "metadata": {},
   "source": [
    "The `BacktestNode` class will orchestrate the backtest run. The reason for this separation between \n",
    "configuration and execution is the `BacktestNode` allows running multiple configurations (different \n",
    "parameters or batches of data). We are now ready to run some backtests!"
   ]
  },
  {
   "cell_type": "code",
   "execution_count": 8,
   "id": "39d640bb-ba7b-4d4b-8c18-5e88f5e294aa",
   "metadata": {},
   "outputs": [
    {
     "name": "stdout",
     "output_type": "stream",
     "text": [
      "\n"
     ]
    },
    {
     "ename": "RuntimeError",
     "evalue": "asyncio.run() cannot be called from a running event loop",
     "output_type": "error",
     "traceback": [
      "\u001b[0;31m---------------------------------------------------------------------------\u001b[0m",
      "\u001b[0;31mRuntimeError\u001b[0m                              Traceback (most recent call last)",
      "Cell \u001b[0;32mIn[8], line 8\u001b[0m\n\u001b[1;32m      5\u001b[0m node \u001b[38;5;241m=\u001b[39m BacktestNode(configs\u001b[38;5;241m=\u001b[39m[config])\n\u001b[1;32m      7\u001b[0m  \u001b[38;5;66;03m# Runs one or many configs synchronously\u001b[39;00m\n\u001b[0;32m----> 8\u001b[0m results: \u001b[38;5;28mlist\u001b[39m[BacktestResult] \u001b[38;5;241m=\u001b[39m \u001b[43mnode\u001b[49m\u001b[38;5;241;43m.\u001b[39;49m\u001b[43mrun\u001b[49m\u001b[43m(\u001b[49m\u001b[43m)\u001b[49m\n",
      "File \u001b[0;32m~/PycharmProjects/_contributions/nautilus_trader/nautilus_trader/backtest/node.py:128\u001b[0m, in \u001b[0;36mBacktestNode.run\u001b[0;34m(self)\u001b[0m\n\u001b[1;32m    126\u001b[0m results: \u001b[38;5;28mlist\u001b[39m[BacktestResult] \u001b[38;5;241m=\u001b[39m []\n\u001b[1;32m    127\u001b[0m \u001b[38;5;28;01mfor\u001b[39;00m config \u001b[38;5;129;01min\u001b[39;00m \u001b[38;5;28mself\u001b[39m\u001b[38;5;241m.\u001b[39m_configs:\n\u001b[0;32m--> 128\u001b[0m     result \u001b[38;5;241m=\u001b[39m \u001b[38;5;28;43mself\u001b[39;49m\u001b[38;5;241;43m.\u001b[39;49m\u001b[43m_run\u001b[49m\u001b[43m(\u001b[49m\n\u001b[1;32m    129\u001b[0m \u001b[43m        \u001b[49m\u001b[43mrun_config_id\u001b[49m\u001b[38;5;241;43m=\u001b[39;49m\u001b[43mconfig\u001b[49m\u001b[38;5;241;43m.\u001b[39;49m\u001b[43mid\u001b[49m\u001b[43m,\u001b[49m\n\u001b[1;32m    130\u001b[0m \u001b[43m        \u001b[49m\u001b[43mengine_config\u001b[49m\u001b[38;5;241;43m=\u001b[39;49m\u001b[43mconfig\u001b[49m\u001b[38;5;241;43m.\u001b[39;49m\u001b[43mengine\u001b[49m\u001b[43m,\u001b[49m\n\u001b[1;32m    131\u001b[0m \u001b[43m        \u001b[49m\u001b[43mvenue_configs\u001b[49m\u001b[38;5;241;43m=\u001b[39;49m\u001b[43mconfig\u001b[49m\u001b[38;5;241;43m.\u001b[39;49m\u001b[43mvenues\u001b[49m\u001b[43m,\u001b[49m\n\u001b[1;32m    132\u001b[0m \u001b[43m        \u001b[49m\u001b[43mdata_configs\u001b[49m\u001b[38;5;241;43m=\u001b[39;49m\u001b[43mconfig\u001b[49m\u001b[38;5;241;43m.\u001b[39;49m\u001b[43mdata\u001b[49m\u001b[43m,\u001b[49m\n\u001b[1;32m    133\u001b[0m \u001b[43m        \u001b[49m\u001b[43mbatch_size_bytes\u001b[49m\u001b[38;5;241;43m=\u001b[39;49m\u001b[43mconfig\u001b[49m\u001b[38;5;241;43m.\u001b[39;49m\u001b[43mbatch_size_bytes\u001b[49m\u001b[43m,\u001b[49m\n\u001b[1;32m    134\u001b[0m \u001b[43m    \u001b[49m\u001b[43m)\u001b[49m\n\u001b[1;32m    135\u001b[0m     results\u001b[38;5;241m.\u001b[39mappend(result)\n\u001b[1;32m    137\u001b[0m \u001b[38;5;28;01mreturn\u001b[39;00m results\n",
      "File \u001b[0;32m~/PycharmProjects/_contributions/nautilus_trader/nautilus_trader/backtest/node.py:236\u001b[0m, in \u001b[0;36mBacktestNode._run\u001b[0;34m(self, run_config_id, engine_config, venue_configs, data_configs, batch_size_bytes)\u001b[0m\n\u001b[1;32m    229\u001b[0m     \u001b[38;5;28mself\u001b[39m\u001b[38;5;241m.\u001b[39m_run_streaming(\n\u001b[1;32m    230\u001b[0m         run_config_id\u001b[38;5;241m=\u001b[39mrun_config_id,\n\u001b[1;32m    231\u001b[0m         engine\u001b[38;5;241m=\u001b[39mengine,\n\u001b[1;32m    232\u001b[0m         data_configs\u001b[38;5;241m=\u001b[39mdata_configs,\n\u001b[1;32m    233\u001b[0m         batch_size_bytes\u001b[38;5;241m=\u001b[39mbatch_size_bytes,\n\u001b[1;32m    234\u001b[0m     )\n\u001b[1;32m    235\u001b[0m \u001b[38;5;28;01melse\u001b[39;00m:\n\u001b[0;32m--> 236\u001b[0m     \u001b[38;5;28;43mself\u001b[39;49m\u001b[38;5;241;43m.\u001b[39;49m\u001b[43m_run_oneshot\u001b[49m\u001b[43m(\u001b[49m\n\u001b[1;32m    237\u001b[0m \u001b[43m        \u001b[49m\u001b[43mrun_config_id\u001b[49m\u001b[38;5;241;43m=\u001b[39;49m\u001b[43mrun_config_id\u001b[49m\u001b[43m,\u001b[49m\n\u001b[1;32m    238\u001b[0m \u001b[43m        \u001b[49m\u001b[43mengine\u001b[49m\u001b[38;5;241;43m=\u001b[39;49m\u001b[43mengine\u001b[49m\u001b[43m,\u001b[49m\n\u001b[1;32m    239\u001b[0m \u001b[43m        \u001b[49m\u001b[43mdata_configs\u001b[49m\u001b[38;5;241;43m=\u001b[39;49m\u001b[43mdata_configs\u001b[49m\u001b[43m,\u001b[49m\n\u001b[1;32m    240\u001b[0m \u001b[43m    \u001b[49m\u001b[43m)\u001b[49m\n\u001b[1;32m    242\u001b[0m \u001b[38;5;66;03m# Release data objects\u001b[39;00m\n\u001b[1;32m    243\u001b[0m engine\u001b[38;5;241m.\u001b[39mdispose()\n",
      "File \u001b[0;32m~/PycharmProjects/_contributions/nautilus_trader/nautilus_trader/backtest/node.py:307\u001b[0m, in \u001b[0;36mBacktestNode._run_oneshot\u001b[0;34m(self, run_config_id, engine, data_configs)\u001b[0m\n\u001b[1;32m    304\u001b[0m     t2 \u001b[38;5;241m=\u001b[39m pd\u001b[38;5;241m.\u001b[39mTimestamp\u001b[38;5;241m.\u001b[39mnow()\n\u001b[1;32m    305\u001b[0m     engine\u001b[38;5;241m.\u001b[39m_log\u001b[38;5;241m.\u001b[39minfo(\u001b[38;5;124mf\u001b[39m\u001b[38;5;124m\"\u001b[39m\u001b[38;5;124mEngine load took \u001b[39m\u001b[38;5;132;01m{\u001b[39;00mpd\u001b[38;5;241m.\u001b[39mTimedelta(t2\u001b[38;5;250m \u001b[39m\u001b[38;5;241m-\u001b[39m\u001b[38;5;250m \u001b[39mt1)\u001b[38;5;132;01m}\u001b[39;00m\u001b[38;5;124ms\u001b[39m\u001b[38;5;124m\"\u001b[39m)\n\u001b[0;32m--> 307\u001b[0m \u001b[43mengine\u001b[49m\u001b[38;5;241;43m.\u001b[39;49m\u001b[43mrun\u001b[49m\u001b[43m(\u001b[49m\u001b[43mrun_config_id\u001b[49m\u001b[38;5;241;43m=\u001b[39;49m\u001b[43mrun_config_id\u001b[49m\u001b[43m)\u001b[49m\n\u001b[1;32m    308\u001b[0m engine\u001b[38;5;241m.\u001b[39mdispose()\n",
      "File \u001b[0;32m~/PycharmProjects/_contributions/nautilus_trader/nautilus_trader/backtest/engine.pyx:868\u001b[0m, in \u001b[0;36mnautilus_trader.backtest.engine.BacktestEngine.run\u001b[0;34m()\u001b[0m\n",
      "File \u001b[0;32m~/PycharmProjects/_contributions/nautilus_trader/nautilus_trader/backtest/engine.pyx:1000\u001b[0m, in \u001b[0;36mnautilus_trader.backtest.engine.BacktestEngine._run\u001b[0;34m()\u001b[0m\n",
      "File \u001b[0;32m/Library/Frameworks/Python.framework/Versions/3.10/lib/python3.10/asyncio/runners.py:33\u001b[0m, in \u001b[0;36mrun\u001b[0;34m(main, debug)\u001b[0m\n\u001b[1;32m      9\u001b[0m \u001b[38;5;250m\u001b[39m\u001b[38;5;124;03m\"\"\"Execute the coroutine and return the result.\u001b[39;00m\n\u001b[1;32m     10\u001b[0m \n\u001b[1;32m     11\u001b[0m \u001b[38;5;124;03mThis function runs the passed coroutine, taking care of\u001b[39;00m\n\u001b[0;32m   (...)\u001b[0m\n\u001b[1;32m     30\u001b[0m \u001b[38;5;124;03m    asyncio.run(main())\u001b[39;00m\n\u001b[1;32m     31\u001b[0m \u001b[38;5;124;03m\"\"\"\u001b[39;00m\n\u001b[1;32m     32\u001b[0m \u001b[38;5;28;01mif\u001b[39;00m events\u001b[38;5;241m.\u001b[39m_get_running_loop() \u001b[38;5;129;01mis\u001b[39;00m \u001b[38;5;129;01mnot\u001b[39;00m \u001b[38;5;28;01mNone\u001b[39;00m:\n\u001b[0;32m---> 33\u001b[0m     \u001b[38;5;28;01mraise\u001b[39;00m \u001b[38;5;167;01mRuntimeError\u001b[39;00m(\n\u001b[1;32m     34\u001b[0m         \u001b[38;5;124m\"\u001b[39m\u001b[38;5;124masyncio.run() cannot be called from a running event loop\u001b[39m\u001b[38;5;124m\"\u001b[39m)\n\u001b[1;32m     36\u001b[0m \u001b[38;5;28;01mif\u001b[39;00m \u001b[38;5;129;01mnot\u001b[39;00m coroutines\u001b[38;5;241m.\u001b[39miscoroutine(main):\n\u001b[1;32m     37\u001b[0m     \u001b[38;5;28;01mraise\u001b[39;00m \u001b[38;5;167;01mValueError\u001b[39;00m(\u001b[38;5;124m\"\u001b[39m\u001b[38;5;124ma coroutine was expected, got \u001b[39m\u001b[38;5;132;01m{!r}\u001b[39;00m\u001b[38;5;124m\"\u001b[39m\u001b[38;5;241m.\u001b[39mformat(main))\n",
      "\u001b[0;31mRuntimeError\u001b[0m: asyncio.run() cannot be called from a running event loop"
     ]
    }
   ],
   "source": [
    "from nautilus_trader.backtest.node import BacktestNode\n",
    "from nautilus_trader.backtest.results import BacktestResult\n",
    "\n",
    "\n",
    "node = BacktestNode(configs=[config])\n",
    "\n",
    " # Runs one or many configs synchronously\n",
    "results: list[BacktestResult] = node.run()"
   ]
  },
  {
   "cell_type": "markdown",
   "id": "8e11a961-2ceb-4cec-986f-0ae703c3db5c",
   "metadata": {},
   "source": [
    "Now that the run is complete, we can also directly query for the `BacktestEngine`(s) used internally by the `BacktestNode`\n",
    "by using the run configs ID. \n",
    "\n",
    "The engine(s) can provide additional reports and information."
   ]
  },
  {
   "cell_type": "code",
   "execution_count": null,
   "id": "628120c5-0480-4ee7-9ef1-b561e054bcdf",
   "metadata": {},
   "outputs": [],
   "source": [
    "from nautilus_trader.backtest.engine import BacktestEngine\n",
    "from nautilus_trader.model.identifiers import Venue\n",
    "\n",
    "engine: BacktestEngine = node.get_engine(config.id)\n",
    "\n",
    "engine.trader.generate_order_fills_report()"
   ]
  },
  {
   "cell_type": "code",
   "execution_count": null,
   "id": "3e71b701-086f-4393-8931-962b5f38f609",
   "metadata": {},
   "outputs": [],
   "source": [
    "engine.trader.generate_positions_report()"
   ]
  },
  {
   "cell_type": "code",
   "execution_count": null,
   "id": "24f33473-a059-49e1-9c4a-df27ee58e3c3",
   "metadata": {},
   "outputs": [],
   "source": [
    "engine.trader.generate_account_report(Venue(\"SIM\"))"
   ]
  }
 ],
 "metadata": {
  "kernelspec": {
   "display_name": "Python 3 (ipykernel)",
   "language": "python",
   "name": "python3"
  },
  "language_info": {
   "codemirror_mode": {
    "name": "ipython",
    "version": 3
   },
   "file_extension": ".py",
   "mimetype": "text/x-python",
   "name": "python",
   "nbconvert_exporter": "python",
   "pygments_lexer": "ipython3",
   "version": "3.10.4"
  }
 },
 "nbformat": 4,
 "nbformat_minor": 5
}
